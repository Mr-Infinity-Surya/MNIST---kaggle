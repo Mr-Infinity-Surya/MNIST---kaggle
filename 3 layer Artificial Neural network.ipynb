{
 "cells": [
  {
   "cell_type": "code",
   "execution_count": 17,
   "metadata": {},
   "outputs": [],
   "source": [
    "import numpy as np\n",
    "import pandas as pd\n",
    "import matplotlib.pyplot as plt\n",
    "import seaborn as sns\n",
    "np.random.seed(1)\n"
   ]
  },
  {
   "cell_type": "code",
   "execution_count": 18,
   "metadata": {},
   "outputs": [
    {
     "name": "stdout",
     "output_type": "stream",
     "text": [
      "No. of training examples :  42000\n",
      "Input data Shape (X) :  (784, 42000)\n",
      "Output data Shape (Y) :  (10, 42000)\n",
      "Unique Output Values :  [0 1 2 3 4 5 6 7 8 9]\n"
     ]
    }
   ],
   "source": [
    "train_data=pd.read_csv(\"train.csv\")\n",
    "test_data=pd.read_csv(\"test.csv\")\n",
    "Y_raw = np.array(train_data[\"label\"])\n",
    "values = np.unique(Y_raw)\n",
    "total = Y_raw.shape[0]\n",
    "Y = np.zeros((values.size,total))\n",
    "for i in range(total) : Y[ Y_raw[i] ][ i ] = 1\n",
    "Y=Y.astype(int)\n",
    "m = total\n",
    "\n",
    "Y_raw = Y_raw.reshape(total,)\n",
    "X = np.transpose(np.array(train_data.drop(columns=[\"label\"]))) / 255\n",
    "\n",
    "print(\"No. of training examples : \", m)\n",
    "print(\"Input data Shape (X) : \", X.shape)\n",
    "print(\"Output data Shape (Y) : \", Y.shape)\n",
    "print(\"Unique Output Values : \", values)"
   ]
  },
  {
   "cell_type": "markdown",
   "metadata": {},
   "source": [
    "\n",
    "<font size=\"6\" color=\"green\" >3 LAYER NEURAL NETWORK</font>\n",
    "\n",
    "<br><br>\n",
    "INPUT LAYER -> UNROLLED 28*28 greyscale image\n",
    "\n",
    "nx := no. of input features = 784\n",
    "\n",
    "<br>\n",
    "1st Layer - > 16 NEURONS , activation ->RELU\n",
    "\n",
    "nh1 := no. of hidden units in layer 1 = 16\n",
    "\n",
    "<br>\n",
    "2nd Layer - > 16 NEURONS , activation ->RELU\n",
    "\n",
    "nh2 := no. of hidden units in layer 2 = 16\n",
    "\n",
    "<br>\n",
    "3rd Layer - > 10 NEURONS , prediction layer , activation ->sigmoid\n",
    "\n",
    "ny := prediction values for each digit = no. of values = 10"
   ]
  },
  {
   "cell_type": "code",
   "execution_count": 19,
   "metadata": {},
   "outputs": [],
   "source": [
    "nx=X.shape[0]\n",
    "nh1=16\n",
    "nh2=16\n",
    "ny=10\n",
    "\n",
    "W1=np.random.randn(nh1,nx)*0.01\n",
    "b1=np.zeros((nh1,1))\n",
    "V1=np.zeros(np.shape(W1))\n",
    "S1=np.zeros(np.shape(W1))\n",
    "\n",
    "W2=np.random.randn(nh2,nh1)*0.01\n",
    "b2=np.zeros((nh2,1))\n",
    "V2=np.zeros(np.shape(W2))\n",
    "S2=np.zeros(np.shape(W2))\n",
    "\n",
    "W3=np.random.randn(ny,nh2)*0.01\n",
    "b3=np.zeros((ny,1))\n",
    "V3=np.zeros(np.shape(W3))\n",
    "S3=np.zeros(np.shape(W3))\n"
   ]
  },
  {
   "cell_type": "code",
   "execution_count": 20,
   "metadata": {},
   "outputs": [],
   "source": [
    "#forward propagation\n",
    "def forward_propagate(X,W1,b1,W2,b2,W3,b3):\n",
    "    \n",
    "    Z1=np.dot(W1,X) + b1\n",
    "    A1=np.maximum(0,Z1)\n",
    "    \n",
    "    Z2=np.dot(W2,A1) + b2\n",
    "    A2=np.maximum(0,Z2)\n",
    "    \n",
    "    Z3=np.dot(W3,A2) + b3\n",
    "    A3=1/(1+np.exp(-Z3))\n",
    "    \n",
    "    return Z1,A1,Z2,A2,Z3,A3\n",
    "    "
   ]
  },
  {
   "cell_type": "code",
   "execution_count": 21,
   "metadata": {},
   "outputs": [],
   "source": [
    "def relu_derivative(Z): return (Z > 0).astype(int)\n",
    "    \n",
    "def back_propagate(Y,A3,Z3,A2,Z2,A1,Z1,X,W1,W2,W3,m):\n",
    "    dA3 = -(np.divide(Y, A3) + np.divide(1 - Y, 1 - A3))\n",
    "    dZ3 = A3 - Y\n",
    "    dW3 = np.dot(dZ3,A2.T) / m\n",
    "    db3 = np.sum(dZ3,axis=1,keepdims=True) / m\n",
    "    \n",
    "    dA2 = np.dot(W3.T,dZ3)\n",
    "    dZ2 = dA2 * relu_derivative(Z2)\n",
    "    dW2 = np.dot(dZ2,A1.T) / m\n",
    "    db2 = np.sum(dZ2,axis=1,keepdims=True) / m\n",
    "    \n",
    "    dA1 = np.dot(W2.T,dZ2)\n",
    "    dZ1 = dA1 * relu_derivative(Z1)\n",
    "    dW1 = np.dot(dZ1,X.T) / m\n",
    "    db1 = np.sum(dZ1,axis=1,keepdims=True) / m\n",
    "    \n",
    "    return dW1,db1,dW2,db2,dW3,db3\n",
    "    "
   ]
  },
  {
   "cell_type": "code",
   "execution_count": 22,
   "metadata": {},
   "outputs": [],
   "source": [
    "def update_parameters(learning_rate,W1,b1,W2,b2,W3,b3,dW1,db1,dW2,db2,dW3,db3):\n",
    "    \n",
    "    W1 = W1 - learning_rate*dW1\n",
    "    b1 = b1 - learning_rate*db1\n",
    "    \n",
    "    W2 = W2 - learning_rate*dW2\n",
    "    b2 = b2 - learning_rate*db2\n",
    "    \n",
    "    W3 = W3 - learning_rate*dW3\n",
    "    b3 = b3 - learning_rate*db3\n",
    "    \n",
    "    return W1,b1,W2,b2,W3,b3"
   ]
  },
  {
   "cell_type": "code",
   "execution_count": 23,
   "metadata": {},
   "outputs": [],
   "source": [
    "def cost(A3,Y):\n",
    "    return -np.average(Y*np.log(A3) + (1-Y)*np.log(1-A3))"
   ]
  },
  {
   "cell_type": "code",
   "execution_count": 24,
   "metadata": {},
   "outputs": [],
   "source": [
    "def predictions(A):\n",
    "    K=np.max(A,axis=0,keepdims=True)\n",
    "    Val=(K==A)\n",
    "    pred=[]\n",
    "    for i in range(A.shape[1]):\n",
    "        for j in range(A.shape[0]):\n",
    "            if(Val[j][i]==True) : pred.append(j)\n",
    "    pred=np.array(pred)\n",
    "    pred = pred.reshape(A.shape[1],)\n",
    "    return pred"
   ]
  },
  {
   "cell_type": "code",
   "execution_count": 25,
   "metadata": {},
   "outputs": [],
   "source": [
    "def accuracy_score(raw, pre):\n",
    "    return np.sum(raw==pred)/raw.size"
   ]
  },
  {
   "cell_type": "code",
   "execution_count": 26,
   "metadata": {},
   "outputs": [
    {
     "name": "stdout",
     "output_type": "stream",
     "text": [
      "AT ITERATION  1  : \n",
      "\tCOST :  0.5873168882949988\n",
      "\tACCURACY :  11.15 %\n",
      "\n",
      "AT ITERATION  100  : \n",
      "\tCOST :  0.25700843469206863\n",
      "\tACCURACY :  37.36 %\n",
      "\n",
      "AT ITERATION  200  : \n",
      "\tCOST :  0.07357188678508902\n",
      "\tACCURACY :  88.57 %\n",
      "\n",
      "AT ITERATION  300  : \n",
      "\tCOST :  0.04835490897145565\n",
      "\tACCURACY :  92.83 %\n",
      "\n",
      "AT ITERATION  400  : \n",
      "\tCOST :  0.03837734177939197\n",
      "\tACCURACY :  94.54 %\n",
      "\n",
      "AT ITERATION  500  : \n",
      "\tCOST :  0.03267846577809122\n",
      "\tACCURACY :  95.4 %\n",
      "\n"
     ]
    }
   ],
   "source": [
    "num_itr = 500\n",
    "epochs = (m//200)\n",
    "learning_rate = 0.8\n",
    "costs = []\n",
    "accuracy = []\n",
    "for i in range(num_itr):\n",
    "    for epoch in range(epochs):\n",
    "        X_mini=X[:,epoch*200: (epoch+1)*200]\n",
    "        Y_mini=Y[:,epoch*200 : (epoch+1)*200]\n",
    "        Z1,A1,Z2,A2,Z3,A3 = forward_propagate(X_mini,W1,b1,W2,b2,W3,b3)\n",
    "        dW1,db1,dW2,db2,dW3,db3 = back_propagate(Y_mini,A3,Z3,A2,Z2,A1,Z1,X_mini,W1,W2,W3,m)\n",
    "        W1,b1,W2,b2,W3,b3 = update_parameters(learning_rate,W1,b1,W2,b2,W3,b3,dW1,db1,dW2,db2,dW3,db3)\n",
    "    if(i%25==0):\n",
    "            _,_,_,_,_,Apred=forward_propagate(X,W1,b1,W2,b2,W3,b3)\n",
    "            pred=predictions(Apred)\n",
    "            costs.append(cost(Apred,Y))\n",
    "            Accuracy = accuracy_score(Y_raw, pred)\n",
    "            accuracy.append(Accuracy)\n",
    "    if((i+1)%100==0 or i==0):\n",
    "            print(\"AT ITERATION \",i+1,\" : \")\n",
    "            print(\"\\tCOST : \",costs[-1])\n",
    "            print(\"\\tACCURACY : \",round(accuracy[-1]*100,2),\"%\\n\")\n"
   ]
  },
  {
   "cell_type": "code",
   "execution_count": 27,
   "metadata": {},
   "outputs": [
    {
     "name": "stdout",
     "output_type": "stream",
     "text": [
      "TRAINING SET Accuracy using 3 Layer Neural Network :  95.57 %\n"
     ]
    },
    {
     "data": {
      "image/png": "[encoded data removed]",
      "text/plain": [
       "<Figure size 432x288 with 2 Axes>"
      ]
     },
     "metadata": {
      "needs_background": "light"
     },
     "output_type": "display_data"
    }
   ],
   "source": [
    "_,_,_,_,_,Ak=forward_propagate(X,W1,b1,W2,b2,W3,b3)\n",
    "pred=predictions(Ak)\n",
    "\n",
    "from sklearn.metrics import confusion_matrix\n",
    "cm=confusion_matrix(Y_raw, pred)\n",
    "sns.heatmap(cm,square=True,annot=True,cmap='Greens', fmt='g')\n",
    "plt.xlabel(\"Predicted values\")\n",
    "plt.ylabel(\"True values\")\n",
    "Accuracy = accuracy_score(Y_raw, pred)\n",
    "print(\"TRAINING SET Accuracy using 3 Layer Neural Network : \",round(Accuracy*100,2),\"%\")"
   ]
  },
  {
   "cell_type": "code",
   "execution_count": 33,
   "metadata": {},
   "outputs": [
    {
     "data": {
      "text/plain": [
       "Text(0.5, 1.0, 'Cost vs Iterations')"
      ]
     },
     "execution_count": 33,
     "metadata": {},
     "output_type": "execute_result"
    },
    {
     "data": {
      "image/png": "[encoded data removed]",
      "text/plain": [
       "<Figure size 432x288 with 1 Axes>"
      ]
     },
     "metadata": {
      "needs_background": "light"
     },
     "output_type": "display_data"
    }
   ],
   "source": [
    "plt.plot(costs)\n",
    "plt.title(\"Cost vs Iterations\")\n"
   ]
  },
  {
   "cell_type": "code",
   "execution_count": 29,
   "metadata": {},
   "outputs": [],
   "source": [
    "X_submit = np.transpose(np.array(test_data)) / 255\n",
    "Z1_submit,A1_submit,Z2_submit,A2_submit,Z3_submit,A_submit = forward_propagate(X_submit,W1,b1,W2,b2,W3,b3)\n",
    "pred_submit=predictions(A_submit)\n",
    "pred_submit=np.transpose(pred_submit)"
   ]
  },
  {
   "cell_type": "code",
   "execution_count": 30,
   "metadata": {},
   "outputs": [],
   "source": [
    "f = open(\"submission.txt\", \"w\")\n",
    "f.write(\"ImageId,Label\")\n",
    "for i in range(pred_submit.size):\n",
    "    f.write('\\n' + str(i+1) + ',' + str(pred_submit[i]))\n",
    "f.close()"
   ]
  }
 ],
 "metadata": {
  "kernelspec": {
   "display_name": "Python 3",
   "language": "python",
   "name": "python3"
  },
  "language_info": {
   "codemirror_mode": {
    "name": "ipython",
    "version": 3
   },
   "file_extension": ".py",
   "mimetype": "text/x-python",
   "name": "python",
   "nbconvert_exporter": "python",
   "pygments_lexer": "ipython3",
   "version": "3.8.10"
  }
 },
 "nbformat": 4,
 "nbformat_minor": 4
}
